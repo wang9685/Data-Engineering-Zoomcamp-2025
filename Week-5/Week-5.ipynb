{
 "cells": [
  {
   "cell_type": "code",
   "execution_count": 10,
   "id": "3a4ea3bd-6815-4036-8abc-3e6565be1e83",
   "metadata": {},
   "outputs": [
    {
     "name": "stdout",
     "output_type": "stream",
     "text": [
      "Welcome to\n",
      "      ____              __\n",
      "     / __/__  ___ _____/ /__\n",
      "    _\\ \\/ _ \\/ _ `/ __/  '_/\n",
      "   /___/ .__/\\_,_/_/ /_/\\_\\   version 3.5.5\n",
      "      /_/\n",
      "                        \n",
      "Using Scala version 2.12.18, OpenJDK 64-Bit Server VM, 11.0.26\n",
      "Branch HEAD\n",
      "Compiled by user ubuntu on 2025-02-23T20:30:46Z\n",
      "Revision 7c29c664cdc9321205a98a14858aaf8daaa19db2\n",
      "Url https://github.com/apache/spark\n",
      "Type --help for more information.\n",
      "The PySpark 3.5.5 version is running...\n"
     ]
    }
   ],
   "source": [
    "import pyspark, os\n",
    "from pyspark.sql import SparkSession\n",
    "\n",
    "\n",
    "!spark-shell --version\n",
    "\n",
    "\n",
    "# Create SparkSession\n",
    "spark = SparkSession.builder.master(\"local[1]\") \\\n",
    "                    .appName('test-spark') \\\n",
    "                    .getOrCreate()\n",
    "\n",
    "print(f'The PySpark {spark.version} version is running...')"
   ]
  },
  {
   "cell_type": "code",
   "execution_count": 8,
   "id": "75d2cf5a-cb80-4537-8829-287a2f5459b8",
   "metadata": {},
   "outputs": [
    {
     "name": "stdout",
     "output_type": "stream",
     "text": [
      "--2025-03-01 12:00:25--  https://d37ci6vzurychx.cloudfront.net/trip-data/yellow_tripdata_2024-10.parquet\n",
      "2600:9000:2365:d800:b:20a5:b140:21, 2600:9000:2365:e800:b:20a5:b140:21, 2600:9000:2365:3800:b:20a5:b140:21, ...\n",
      "connected. to d37ci6vzurychx.cloudfront.net (d37ci6vzurychx.cloudfront.net)|2600:9000:2365:d800:b:20a5:b140:21|:443... \n",
      "HTTP request sent, awaiting response... 200 OK\n",
      "Length: 64346071 (61M) [binary/octet-stream]\n",
      "Saving to: 'yellow_tripdata_2024-10.parquet.1'\n",
      "\n",
      "yellow_tripdata_202 100%[===================>]  61.36M  28.3MB/s    in 2.2s    \n",
      "\n",
      "2025-03-01 12:00:27 (28.3 MB/s) - 'yellow_tripdata_2024-10.parquet.1' saved [64346071/64346071]\n",
      "\n"
     ]
    }
   ],
   "source": [
    "# Download file\n",
    "!wget https://d37ci6vzurychx.cloudfront.net/trip-data/yellow_tripdata_2024-10.parquet"
   ]
  },
  {
   "cell_type": "code",
   "execution_count": 11,
   "id": "b7b6488b-4f24-4810-8e28-9cfd45942ebb",
   "metadata": {},
   "outputs": [],
   "source": [
    "df = spark.read \\\n",
    "    .option(\"header\", \"true\") \\\n",
    "    .parquet(\"yellow_tripdata_2024-10.parquet\")"
   ]
  },
  {
   "cell_type": "code",
   "execution_count": 12,
   "id": "ba63c53c-fbb4-4f48-9b19-22144f286d85",
   "metadata": {},
   "outputs": [
    {
     "data": {
      "text/plain": [
       "[Row(VendorID=2, tpep_pickup_datetime=datetime.datetime(2024, 10, 1, 0, 30, 44), tpep_dropoff_datetime=datetime.datetime(2024, 10, 1, 0, 48, 26), passenger_count=1, trip_distance=3.0, RatecodeID=1, store_and_fwd_flag='N', PULocationID=162, DOLocationID=246, payment_type=1, fare_amount=18.4, extra=1.0, mta_tax=0.5, tip_amount=1.5, tolls_amount=0.0, improvement_surcharge=1.0, total_amount=24.9, congestion_surcharge=2.5, Airport_fee=0.0),\n",
       " Row(VendorID=1, tpep_pickup_datetime=datetime.datetime(2024, 10, 1, 0, 12, 20), tpep_dropoff_datetime=datetime.datetime(2024, 10, 1, 0, 25, 25), passenger_count=1, trip_distance=2.2, RatecodeID=1, store_and_fwd_flag='N', PULocationID=48, DOLocationID=236, payment_type=1, fare_amount=14.2, extra=3.5, mta_tax=0.5, tip_amount=3.8, tolls_amount=0.0, improvement_surcharge=1.0, total_amount=23.0, congestion_surcharge=2.5, Airport_fee=0.0),\n",
       " Row(VendorID=1, tpep_pickup_datetime=datetime.datetime(2024, 10, 1, 0, 4, 46), tpep_dropoff_datetime=datetime.datetime(2024, 10, 1, 0, 13, 52), passenger_count=1, trip_distance=2.7, RatecodeID=1, store_and_fwd_flag='N', PULocationID=142, DOLocationID=24, payment_type=1, fare_amount=13.5, extra=3.5, mta_tax=0.5, tip_amount=3.7, tolls_amount=0.0, improvement_surcharge=1.0, total_amount=22.2, congestion_surcharge=2.5, Airport_fee=0.0),\n",
       " Row(VendorID=1, tpep_pickup_datetime=datetime.datetime(2024, 10, 1, 0, 12, 10), tpep_dropoff_datetime=datetime.datetime(2024, 10, 1, 0, 23, 1), passenger_count=1, trip_distance=3.1, RatecodeID=1, store_and_fwd_flag='N', PULocationID=233, DOLocationID=75, payment_type=1, fare_amount=14.2, extra=3.5, mta_tax=0.5, tip_amount=2.0, tolls_amount=0.0, improvement_surcharge=1.0, total_amount=21.2, congestion_surcharge=2.5, Airport_fee=0.0),\n",
       " Row(VendorID=1, tpep_pickup_datetime=datetime.datetime(2024, 10, 1, 0, 30, 22), tpep_dropoff_datetime=datetime.datetime(2024, 10, 1, 0, 30, 39), passenger_count=1, trip_distance=0.0, RatecodeID=1, store_and_fwd_flag='N', PULocationID=262, DOLocationID=262, payment_type=3, fare_amount=3.0, extra=3.5, mta_tax=0.5, tip_amount=0.0, tolls_amount=0.0, improvement_surcharge=1.0, total_amount=8.0, congestion_surcharge=2.5, Airport_fee=0.0)]"
      ]
     },
     "execution_count": 12,
     "metadata": {},
     "output_type": "execute_result"
    }
   ],
   "source": [
    "df.head(5)"
   ]
  },
  {
   "cell_type": "code",
   "execution_count": 13,
   "id": "1bed3152-641c-4e3b-b459-061b3de49ca7",
   "metadata": {},
   "outputs": [
    {
     "data": {
      "text/plain": [
       "StructType([StructField('VendorID', IntegerType(), True), StructField('tpep_pickup_datetime', TimestampNTZType(), True), StructField('tpep_dropoff_datetime', TimestampNTZType(), True), StructField('passenger_count', LongType(), True), StructField('trip_distance', DoubleType(), True), StructField('RatecodeID', LongType(), True), StructField('store_and_fwd_flag', StringType(), True), StructField('PULocationID', IntegerType(), True), StructField('DOLocationID', IntegerType(), True), StructField('payment_type', LongType(), True), StructField('fare_amount', DoubleType(), True), StructField('extra', DoubleType(), True), StructField('mta_tax', DoubleType(), True), StructField('tip_amount', DoubleType(), True), StructField('tolls_amount', DoubleType(), True), StructField('improvement_surcharge', DoubleType(), True), StructField('total_amount', DoubleType(), True), StructField('congestion_surcharge', DoubleType(), True), StructField('Airport_fee', DoubleType(), True)])"
      ]
     },
     "execution_count": 13,
     "metadata": {},
     "output_type": "execute_result"
    }
   ],
   "source": [
    "df.schema"
   ]
  },
  {
   "cell_type": "code",
   "execution_count": 15,
   "id": "de35917b-d722-446a-811e-c8d5c20bd1b7",
   "metadata": {},
   "outputs": [],
   "source": [
    "from pyspark.sql import types\n",
    "schema = types.StructType([\n",
    "    types.StructField('VendorID', types.IntegerType(), True), \n",
    "    types.StructField('tpep_pickup_datetime', types.TimestampType(), True), \n",
    "    types.StructField('tpep_dropoff_datetime', types.TimestampType(), True), \n",
    "    types.StructField('passenger_count', types.LongType(), True), \n",
    "    types.StructField('trip_distance', types.DoubleType(), True), \n",
    "    types.StructField('RatecodeID', types.LongType(), True), \n",
    "    types.StructField('store_and_fwd_flag', types.StringType(), True), \n",
    "    types.StructField('PULocationID', types.IntegerType(), True), \n",
    "    types.StructField('DOLocationID', types.IntegerType(), True), \n",
    "    types.StructField('payment_type', types.LongType(), True), \n",
    "    types.StructField('fare_amount', types.DoubleType(), True), \n",
    "    types.StructField('extra', types.DoubleType(), True), \n",
    "    types.StructField('mta_tax', types.DoubleType(), True), \n",
    "    types.StructField('tip_amount', types.DoubleType(), True), \n",
    "    types.StructField('tolls_amount', types.DoubleType(), True), \n",
    "    types.StructField('improvement_surcharge', types.DoubleType(), True), \n",
    "    types.StructField('total_amount', types.DoubleType(), True), \n",
    "    types.StructField('congestion_surcharge', types.DoubleType(), True), \n",
    "    types.StructField('Airport_fee', types.DoubleType(), True)\n",
    "])"
   ]
  },
  {
   "cell_type": "code",
   "execution_count": 17,
   "id": "3b02a7be-fe1c-4c8b-be0a-c3b0cbf7064c",
   "metadata": {},
   "outputs": [],
   "source": [
    "df = spark.read \\\n",
    "    .option(\"header\", \"true\") \\\n",
    "    .schema(schema) \\\n",
    "    .parquet(\"yellow_tripdata_2024-10.parquet\")"
   ]
  },
  {
   "cell_type": "code",
   "execution_count": 22,
   "id": "b5be5352-35da-4a64-b512-7355baa257bd",
   "metadata": {},
   "outputs": [
    {
     "data": {
      "text/plain": [
       "Row(VendorID=2, tpep_pickup_datetime=datetime.datetime(2024, 10, 25, 17, 54, 18), tpep_dropoff_datetime=datetime.datetime(2024, 10, 25, 18, 11, 14), passenger_count=1, trip_distance=2.66, RatecodeID=1, store_and_fwd_flag='N', PULocationID=114, DOLocationID=161, payment_type=1, fare_amount=17.7, extra=1.0, mta_tax=0.5, tip_amount=2.0, tolls_amount=0.0, improvement_surcharge=1.0, total_amount=24.7, congestion_surcharge=2.5, Airport_fee=0.0)"
      ]
     },
     "execution_count": 22,
     "metadata": {},
     "output_type": "execute_result"
    }
   ],
   "source": [
    "df.head()"
   ]
  },
  {
   "cell_type": "code",
   "execution_count": 19,
   "id": "6b8830ac-b517-4226-960f-c5e1984f562f",
   "metadata": {},
   "outputs": [
    {
     "name": "stderr",
     "output_type": "stream",
     "text": [
      "                                                                                "
     ]
    }
   ],
   "source": [
    "df = df.repartition(4)\n",
    "df.write.parquet(\"yellow_tripdata\", mode=\"overwrite\")"
   ]
  },
  {
   "cell_type": "code",
   "execution_count": 44,
   "id": "7a84f5d3-764a-4e69-9a79-4bd6d5522530",
   "metadata": {},
   "outputs": [],
   "source": [
    "df = spark.read.parquet(\"yellow_tripdata\")"
   ]
  },
  {
   "cell_type": "code",
   "execution_count": 45,
   "id": "ee766c38-ebf2-4923-b522-ba8a4d314b14",
   "metadata": {},
   "outputs": [
    {
     "name": "stdout",
     "output_type": "stream",
     "text": [
      "root\n",
      " |-- VendorID: integer (nullable = true)\n",
      " |-- tpep_pickup_datetime: timestamp (nullable = true)\n",
      " |-- tpep_dropoff_datetime: timestamp (nullable = true)\n",
      " |-- passenger_count: long (nullable = true)\n",
      " |-- trip_distance: double (nullable = true)\n",
      " |-- RatecodeID: long (nullable = true)\n",
      " |-- store_and_fwd_flag: string (nullable = true)\n",
      " |-- PULocationID: integer (nullable = true)\n",
      " |-- DOLocationID: integer (nullable = true)\n",
      " |-- payment_type: long (nullable = true)\n",
      " |-- fare_amount: double (nullable = true)\n",
      " |-- extra: double (nullable = true)\n",
      " |-- mta_tax: double (nullable = true)\n",
      " |-- tip_amount: double (nullable = true)\n",
      " |-- tolls_amount: double (nullable = true)\n",
      " |-- improvement_surcharge: double (nullable = true)\n",
      " |-- total_amount: double (nullable = true)\n",
      " |-- congestion_surcharge: double (nullable = true)\n",
      " |-- Airport_fee: double (nullable = true)\n",
      "\n"
     ]
    }
   ],
   "source": [
    "df.printSchema()"
   ]
  },
  {
   "cell_type": "code",
   "execution_count": 46,
   "id": "b7fc7377-e24b-4929-9eb4-c596a681babb",
   "metadata": {},
   "outputs": [],
   "source": [
    "from pyspark.sql import functions as F\n",
    "df = df \\\n",
    "    .withColumn(\"pickup_date\", F.to_date(df.tpep_pickup_datetime))\n"
   ]
  },
  {
   "cell_type": "code",
   "execution_count": 50,
   "id": "50fc4a43-66d7-408a-b9bd-407060806ca7",
   "metadata": {},
   "outputs": [
    {
     "name": "stdout",
     "output_type": "stream",
     "text": [
      "+--------+\n",
      "|count(1)|\n",
      "+--------+\n",
      "|  128632|\n",
      "+--------+\n",
      "\n"
     ]
    }
   ],
   "source": [
    "df.registerTempTable(\"taxi_data\")\n",
    "spark.sql(\"\"\"\n",
    "SELECT COUNT(*) FROM taxi_data WHERE pickup_date = '2024-10-15';\n",
    "\"\"\") \\\n",
    ".show()"
   ]
  },
  {
   "cell_type": "code",
   "execution_count": 61,
   "id": "87e7b505-8e19-42a3-8d66-b079fe10b9a5",
   "metadata": {},
   "outputs": [],
   "source": [
    "df = df \\\n",
    "    .withColumn(\"duration\", (F.unix_timestamp(df.tpep_dropoff_datetime) - F.unix_timestamp(df.tpep_pickup_datetime))/3600)"
   ]
  },
  {
   "cell_type": "code",
   "execution_count": 62,
   "id": "e4f0e2e6-28fa-4661-bb5b-88dc91a53d9f",
   "metadata": {},
   "outputs": [
    {
     "name": "stdout",
     "output_type": "stream",
     "text": [
      "+------------------+\n",
      "|     max(duration)|\n",
      "+------------------+\n",
      "|162.61777777777777|\n",
      "+------------------+\n",
      "\n"
     ]
    }
   ],
   "source": [
    "df.registerTempTable(\"taxi_data\")\n",
    "spark.sql(\"\"\"\n",
    "SELECT MAX(duration) FROM taxi_data;\n",
    "\"\"\").show()"
   ]
  },
  {
   "cell_type": "code",
   "execution_count": 63,
   "id": "fc826b50-2d30-4bde-b4e1-3a03ba913a5f",
   "metadata": {},
   "outputs": [
    {
     "name": "stdout",
     "output_type": "stream",
     "text": [
      "--2025-03-01 21:06:50--  https://d37ci6vzurychx.cloudfront.net/misc/taxi_zone_lookup.csv\n",
      "Resolving d37ci6vzurychx.cloudfront.net (d37ci6vzurychx.cloudfront.net)... 2600:9000:2365:3a00:b:20a5:b140:21, 2600:9000:2365:6200:b:20a5:b140:21, 2600:9000:2365:ac00:b:20a5:b140:21, ...\n",
      "connected. to d37ci6vzurychx.cloudfront.net (d37ci6vzurychx.cloudfront.net)|2600:9000:2365:3a00:b:20a5:b140:21|:443... \n",
      "HTTP request sent, awaiting response... 200 OK\n",
      "Length: 12331 (12K) [text/csv]\n",
      "Saving to: 'taxi_zone_lookup.csv'\n",
      "\n",
      "taxi_zone_lookup.cs 100%[===================>]  12.04K  --.-KB/s    in 0s      \n",
      "\n",
      "2025-03-01 21:06:51 (1.64 GB/s) - 'taxi_zone_lookup.csv' saved [12331/12331]\n",
      "\n"
     ]
    }
   ],
   "source": [
    "!wget https://d37ci6vzurychx.cloudfront.net/misc/taxi_zone_lookup.csv"
   ]
  },
  {
   "cell_type": "code",
   "execution_count": 65,
   "id": "df72fc87-d016-4487-b992-6304dafed340",
   "metadata": {},
   "outputs": [],
   "source": [
    "df_zone = spark.read \\\n",
    "    .option(\"header\", \"true\") \\\n",
    "    .csv(\"taxi_zone_lookup.csv\")"
   ]
  },
  {
   "cell_type": "code",
   "execution_count": 67,
   "id": "15c9f535-a21f-4770-a46f-096bba71c2e7",
   "metadata": {},
   "outputs": [
    {
     "name": "stdout",
     "output_type": "stream",
     "text": [
      "root\n",
      " |-- LocationID: string (nullable = true)\n",
      " |-- Borough: string (nullable = true)\n",
      " |-- Zone: string (nullable = true)\n",
      " |-- service_zone: string (nullable = true)\n",
      "\n"
     ]
    }
   ],
   "source": [
    "df_zone.printSchema()"
   ]
  },
  {
   "cell_type": "code",
   "execution_count": 78,
   "id": "230d5742-da30-4039-89f4-5f369e320444",
   "metadata": {},
   "outputs": [
    {
     "name": "stdout",
     "output_type": "stream",
     "text": [
      "+--------------------+------------------------+\n",
      "|                Zone|Frequency_of_pickup_zone|\n",
      "+--------------------+------------------------+\n",
      "|Governor's Island...|                       1|\n",
      "|       Rikers Island|                       2|\n",
      "|       Arden Heights|                       2|\n",
      "|         Jamaica Bay|                       3|\n",
      "| Green-Wood Cemetery|                       3|\n",
      "|Charleston/Totten...|                       4|\n",
      "|   Rossville/Woodrow|                       4|\n",
      "|       West Brighton|                       4|\n",
      "|       Port Richmond|                       4|\n",
      "|Eltingville/Annad...|                       4|\n",
      "|         Great Kills|                       6|\n",
      "|        Crotona Park|                       6|\n",
      "|Heartland Village...|                       7|\n",
      "|     Mariners Harbor|                       7|\n",
      "|Saint George/New ...|                       9|\n",
      "|             Oakwood|                       9|\n",
      "|       Broad Channel|                      10|\n",
      "|New Dorp/Midland ...|                      10|\n",
      "|         Westerleigh|                      12|\n",
      "|     Pelham Bay Park|                      12|\n",
      "+--------------------+------------------------+\n",
      "only showing top 20 rows\n",
      "\n"
     ]
    }
   ],
   "source": [
    "df_join = df.join(df_zone, [df.PULocationID == df_zone.LocationID], \"inner\") \\\n",
    "    .select(df_zone.Zone)\n",
    "df_join.registerTempTable(\"taxi_data_zone\")\n",
    "\n",
    "spark.sql(\"\"\"\n",
    "SELECT Zone, COUNT(*) AS Frequency_of_pickup_zone\n",
    "FROM taxi_data_zone\n",
    "GROUP BY Zone\n",
    "ORDER BY Frequency_of_pickup_zone;\n",
    "\"\"\").show()"
   ]
  },
  {
   "cell_type": "code",
   "execution_count": null,
   "id": "1c55fe19-f489-491f-9ab7-9a013ee70700",
   "metadata": {},
   "outputs": [],
   "source": []
  },
  {
   "cell_type": "code",
   "execution_count": null,
   "id": "dd54512f-46c2-43f0-95fa-77fcde9012a1",
   "metadata": {},
   "outputs": [],
   "source": []
  }
 ],
 "metadata": {
  "kernelspec": {
   "display_name": "Python 3 (ipykernel)",
   "language": "python",
   "name": "python3"
  },
  "language_info": {
   "codemirror_mode": {
    "name": "ipython",
    "version": 3
   },
   "file_extension": ".py",
   "mimetype": "text/x-python",
   "name": "python",
   "nbconvert_exporter": "python",
   "pygments_lexer": "ipython3",
   "version": "3.13.2"
  }
 },
 "nbformat": 4,
 "nbformat_minor": 5
}
